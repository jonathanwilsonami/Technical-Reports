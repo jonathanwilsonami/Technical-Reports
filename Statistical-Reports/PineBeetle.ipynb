{
 "cells": [
  {
   "cell_type": "markdown",
   "metadata": {},
   "source": [
    "# Pine Beetle Analysis "
   ]
  },
  {
   "cell_type": "markdown",
   "metadata": {},
   "source": [
    "## Introduction and Problem Background\n",
    "\n",
    "In the forests of the western United States the mountain pine beetle Dendroctonus ponderosae (MPB) has traditionally been helpful in recycling weakened trees thus preserving good forest health. Although in recent years with climate change these insects have become more like pests causing widespread tree mortality. This has become a epidemic over the past several decades. \n",
    "\n",
    "Ecologists use annual aerial detection surveys (ADS) to analyze the extent of the damage done to the forests. The data for this analysis come from an ADS from the Colorado State Forest Service for the front range mountains in Colorado. The area of this survey covers from the southern Rocky Mountains in Colorado to southern Wyoming and the Black Hills of South Dakota. However, this analysis will focus on analyzing the data in the North Central Rocky Mountains in Colorado for its consistent pine tree cover. \n",
    "\n",
    "From the ADS we have covariate information that would be useful in a statistical analysis. The main motivation for this kind of analysis would be to build a model to get a predicted probability of new location of pine beetle infestation and to better understand which factors are contributing to said issue. The response variable in this analysis will be whether or not the region is infested with the pine beetle or not. The response is either yes or no which will be addressed shortly. Then there are multiple covariates such as high and low temperatures, slope and elevation of the area/mountain, precipitation, and region indicators.        "
   ]
  },
  {
   "cell_type": "code",
   "execution_count": 7,
   "metadata": {},
   "outputs": [],
   "source": [
    "import pandas as pd\n",
    "import statsmodels.formula.api as smf\n",
    "import statsmodels.api as sm\n",
    "import seaborn as sns\n",
    "import matplotlib.pyplot as plt\n",
    "import numpy as np\n",
    "from sklearn.metrics import roc_curve, auc\n",
    "from sklearn.metrics import confusion_matrix\n",
    "import copy\n",
    "\n",
    "#RUN for formatting:\n",
    "#jupyter nbconvert --to html --template hidecode YourNotebook.ipynb"
   ]
  },
  {
   "cell_type": "code",
   "execution_count": 13,
   "metadata": {},
   "outputs": [],
   "source": [
    "mbp = pd.read_csv('PineBeetle2.csv')\n",
    "temp = copy.deepcopy(mbp)\n",
    "#Make yes and no categorical 0/1\n",
    "mbp['Infested'] = (mbp['Infested']==\"Yes\")*1\n",
    "\n",
    "mbp['NC'] = mbp['NC'].astype('category')\n",
    "mbp['NW'] = mbp['NW'].astype('category')\n",
    "mbp['EC'] = mbp['EC'].astype('category')\n",
    "mbp['WC'] = mbp['WC'].astype('category')\n",
    "mbp['SE'] = mbp['SE'].astype('category')\n",
    "mbp['SC'] = mbp['SC'].astype('category')\n",
    "mbp['SW'] = mbp['SW'].astype('category')"
   ]
  },
  {
   "cell_type": "markdown",
   "metadata": {},
   "source": [
    "Below are a couple plots to explore our data a little closer. Isolating infested and precip we can see that as precipitation rises the chances of an area being infested increases. And for infested and August_max\twe can see that as August_max\tincreases the chances of an area being infested decreases having a negative association. After doing this kind of data exploration we see that the response is an indicator variable which means it says only if a location is infested or not. This will determine what kind of analysis we will need to do in order to create a model and make predictions. For this kind of analysis we will want to use a logistic regression model as it will model the behavior of our response variable as compared to a multiple linear regression model which is better for modeling response variables that are in the set of reals or other types of models such as Poisson regression which models the response as a Poisson distribution.  "
   ]
  },
  {
   "cell_type": "code",
   "execution_count": 27,
   "metadata": {},
   "outputs": [
    {
     "data": {
      "text/plain": [
       "<matplotlib.axes._subplots.AxesSubplot at 0x16162ab7550>"
      ]
     },
     "execution_count": 27,
     "metadata": {},
     "output_type": "execute_result"
    },
    {
     "data": {
      "image/png": "[encoded data removed]",
      "text/plain": [
       "<Figure size 432x288 with 1 Axes>"
      ]
     },
     "metadata": {
      "needs_background": "light"
     },
     "output_type": "display_data"
    }
   ],
   "source": [
    "sns.regplot(x=\"Precip\", y=\"Infested\", data=mbp, lowess=True)"
   ]
  },
  {
   "cell_type": "code",
   "execution_count": 33,
   "metadata": {},
   "outputs": [
    {
     "data": {
      "text/plain": [
       "<matplotlib.axes._subplots.AxesSubplot at 0x1615e645550>"
      ]
     },
     "execution_count": 33,
     "metadata": {},
     "output_type": "execute_result"
    },
    {
     "data": {
      "image/png": "[encoded data removed]",
      "text/plain": [
       "<Figure size 432x288 with 1 Axes>"
      ]
     },
     "metadata": {
      "needs_background": "light"
     },
     "output_type": "display_data"
    }
   ],
   "source": [
    "sns.regplot(x=\"August_max\", y=\"Infested\", data=mbp, lowess=True)"
   ]
  },
  {
   "cell_type": "markdown",
   "metadata": {},
   "source": [
    "Since the response variable (infested or not infested) is binary, the statistical method that would be suitable for this analysis would be a logistic regression method. The model for this this logistic regression method will be discussed below.  "
   ]
  },
  {
   "cell_type": "markdown",
   "metadata": {},
   "source": [
    "##  Statistical Modeling\n",
    "\n",
    "### Variable Selection\n",
    "\n",
    "The main goal of variable selection is to choose the appropriate variables to add to the model. For this model I used best subset selection procedure which considers all possible combinations of variables. Since we had a reasonable amount of variables (not computationally intensive) this method seemed ideal. I also based my variable selection procedure on the BIC. I chose this procedure as it seems to optimize for both prediction and inference. Below is the mathematical model which includes the variables that were selected namely, January, August_max, Precip, NC, and SE regions."
   ]
  },
  {
   "cell_type": "code",
   "execution_count": 4,
   "metadata": {},
   "outputs": [],
   "source": [
    "#Variable and Model Selection\n",
    "from rpy2.robjects.packages import importr \n",
    "from rpy2.robjects import pandas2ri\n",
    "pandas2ri.activate() # this activates an R session within python\n",
    "base_r = importr('base')\n",
    "bestglm = importr('bestglm')\n",
    "stats = importr('stats')\n",
    "\n",
    "select = bestglm.bestglm(mbp, family=stats.binomial, IC=\"BIC\", method=\"exhaustive\")\n",
    "#print(base_r.summary(select.rx2('BestModel')))"
   ]
  },
  {
   "cell_type": "code",
   "execution_count": 3,
   "metadata": {},
   "outputs": [],
   "source": [
    "#Fitting a model\n",
    "log_reg = smf.glm(formula='Infested~January+August_max+Precip+NC+SE', data=mbp,\n",
    "                   family=sm.families.Binomial()).fit()\n",
    "#log_reg.summary()"
   ]
  },
  {
   "cell_type": "markdown",
   "metadata": {},
   "source": [
    "## Statistical Model\n",
    "\n",
    " **Logistic Regression Model:** $log(\\frac{p_i}{1-p_i}) = \\beta_0 + \\beta_1 (January_i) + \\beta_2 (AugustMax_i) + \\beta_3 (Precip_i) + \\beta_4 (NCYes_i) + \\beta_5 (SEYes_i)$\n",
    " \n",
    "$y_i \\stackrel{iid}{\\sim} Bern(p_i)$ Since our response is either yes or no we need a proper distribution to model this. \n",
    "\n",
    "$\\beta_0$ - The intercept. On average this is what we would expect the $log(\\frac{p_i}{1-p_i})$ to be if all other variables were zero. \n",
    "\n",
    "$\\beta_3 (Precip_i)$ - The 3rd explanatory variable Precip can be interpreted as: holding all else constant if precipitation increases by 1 unit then a new area is (100 x (exp{$\\beta_1$} - 1)% more likely to be infested. Other covariates can be interpreted in the same manner.\n",
    "\n",
    "$\\beta_5 (SEYes_i)$ - For a categorical variable such as SEYes we can interpret this as an area that is located in the SE region, holding all else constant, on average, is (100 x (exp{$\\beta_5$} - 1)% less likely to be infested than an area that is in another area. \n",
    "\n",
    "### Assumptions \n",
    "\n",
    "For this model we are assuming that the data are independent and linear in log-odds. For independence all we need to do is think about how one area might influence another. Since different areas are normally selected randomly we can assume that one area will not influence another. It is reasonable to say that one area will not affect another differently. As for checking linear in log-odds we just need to plot a scatterplot with smooth curves and make sure the curve is monotone in probability. The plots below seem to indicate this assumption is met. "
   ]
  },
  {
   "cell_type": "code",
   "execution_count": 18,
   "metadata": {},
   "outputs": [
    {
     "data": {
      "text/plain": [
       "<matplotlib.axes._subplots.AxesSubplot at 0x1c3ab7159b0>"
      ]
     },
     "execution_count": 18,
     "metadata": {},
     "output_type": "execute_result"
    },
    {
     "data": {
      "image/png": "[encoded data removed]",
      "text/plain": [
       "<Figure size 432x288 with 1 Axes>"
      ]
     },
     "metadata": {
      "needs_background": "light"
     },
     "output_type": "display_data"
    }
   ],
   "source": [
    "sns.regplot(x=\"January\", y=\"Infested\", data=mbp, lowess=True)"
   ]
  },
  {
   "cell_type": "code",
   "execution_count": 7,
   "metadata": {},
   "outputs": [
    {
     "data": {
      "text/plain": [
       "<matplotlib.axes._subplots.AxesSubplot at 0x1616296e898>"
      ]
     },
     "execution_count": 7,
     "metadata": {},
     "output_type": "execute_result"
    },
    {
     "data": {
      "image/png": "[encoded data removed]",
      "text/plain": [
       "<Figure size 432x288 with 1 Axes>"
      ]
     },
     "metadata": {
      "needs_background": "light"
     },
     "output_type": "display_data"
    }
   ],
   "source": [
    "sns.regplot(x=\"August_max\", y=\"Infested\", data=mbp, lowess=True)"
   ]
  },
  {
   "cell_type": "code",
   "execution_count": 8,
   "metadata": {},
   "outputs": [
    {
     "data": {
      "text/plain": [
       "<matplotlib.axes._subplots.AxesSubplot at 0x161629eff98>"
      ]
     },
     "execution_count": 8,
     "metadata": {},
     "output_type": "execute_result"
    },
    {
     "data": {
      "image/png": "[encoded data removed]",
      "text/plain": [
       "<Figure size 432x288 with 1 Axes>"
      ]
     },
     "metadata": {
      "needs_background": "light"
     },
     "output_type": "display_data"
    }
   ],
   "source": [
    "sns.regplot(x=\"Precip\", y=\"Infested\", data=mbp, lowess=True)"
   ]
  },
  {
   "cell_type": "markdown",
   "metadata": {},
   "source": [
    "## Results\n",
    "\n",
    "The results of the logistic regression model can be found in the table below. The covariate is listed on the left, the estimates next, then the 95% confidence interval for each effect. We can interpret the interval for Precip as, we are 95% confident that as precipitation increases by 1 unit the likelihood of a new area being infested increases between (.2, .4)%. For negatively associated properties we can interpret the interval as a decrease in likelihood. For example, we are 95% confident that as the average January minimum temperature by 1 unit degrees C decreases the likelihood of a new area being infested by between (9.52, 17.55)% \n",
    "\n",
    "| Covariate | Coefficient Estimate | [.025] | [.0975] | $e^{Estimate}$ | $e^{2.5\\%}$ | $e^{97.5\\%}$\n",
    "| --- | --- | --- | --- | --- | --- | --- |\n",
    "| Intercept | -0.157 | -1.884 | 1.569 | --| --| --|\n",
    "| NC[T.Yes] | -1.2183 | -1.512 | -0.924 |70.43 | 77.95 | 60.3 |\n",
    "| SE[T.Yes]\t | -0.9191 | -1.218 | -0.620 | 60.10 | 70.40 | 46.20 |\n",
    "| January | -0.1466 | -0.193 | -0.100 | 13.64 | 17.55 | 9.52 |\n",
    "| August_max | -0.0851 | -0.132 | -0.038 | 8.16 | 12.37 | 3.73 |\n",
    "| Precip | 0.0029 | 0.002 | 0.004 | .29 | .20 | .40 |"
   ]
  },
  {
   "cell_type": "markdown",
   "metadata": {},
   "source": [
    "### Threshold for classification\n",
    "\n",
    "Below I went through a process of finding a threshold classification (.4949) that minimizes the misclassification rate. In other words, this is the threshold that  minimizes misclassifying an area as infested when it is not. The plot below shows the value .4949 that was calculated. The cutoff is on the x axis and the misclassification is on the y. From the plot .4949 does seem to be the minimized value. This is the value I will use for the cutoff for the model.   "
   ]
  },
  {
   "cell_type": "code",
   "execution_count": 10,
   "metadata": {},
   "outputs": [
    {
     "data": {
      "text/plain": [
       "0.494949494949495"
      ]
     },
     "execution_count": 10,
     "metadata": {},
     "output_type": "execute_result"
    }
   ],
   "source": [
    "#predicted probabilities, which are just our \"fitted values\"\n",
    "pred_probs = log_reg.fittedvalues\n",
    "\n",
    "#create a sequence that contains 100 potential thresholds between 0 and 1\n",
    "thresh = np.linspace(0,1,num=100)\n",
    "\n",
    "#create an empty vector that is the same length as thresh to store the misclassification rate for each threshold\n",
    "misclass = np.repeat(np.NaN,repeats=thresh.size)\n",
    "\n",
    "#figure out which threshold minimizes the misclassification\n",
    "for i in range(thresh.size): \n",
    "    my_classification = pred_probs>thresh[i] \n",
    "    misclass[i] = np.mean(my_classification!=mbp['Infested'])\n",
    "    \n",
    "#Find threshold which minimizes miclassification\n",
    "thresh[np.argmin(misclass)]"
   ]
  },
  {
   "cell_type": "code",
   "execution_count": 11,
   "metadata": {},
   "outputs": [
    {
     "data": {
      "text/plain": [
       "Text(0, 0.5, 'Misclassification')"
      ]
     },
     "execution_count": 11,
     "metadata": {},
     "output_type": "execute_result"
    },
    {
     "data": {
      "image/png": "[encoded data removed]",
      "text/plain": [
       "<Figure size 432x288 with 1 Axes>"
      ]
     },
     "metadata": {
      "needs_background": "light"
     },
     "output_type": "display_data"
    }
   ],
   "source": [
    "plt.plot(thresh, misclass)\n",
    "plt.xlabel(\"Cutoff\")\n",
    "plt.ylabel(\"Misclassification\")"
   ]
  },
  {
   "cell_type": "markdown",
   "metadata": {},
   "source": [
    "### Model Fit\n",
    "\n",
    "To help assess the fit of the model I have built a confusion matrix for all the data below using the classification threshold that was just found. \n",
    "\n",
    "| --- | Predicted No | Predicted Yes |\n",
    "| --- | --- | --- |\n",
    "| True No | 245 | 402 | \n",
    "| True Yes | 82 | 1581 |\n",
    "\n",
    "Pseudo-$R^2$ tells us the percent of variation in $log(\\frac{p}{1-p})$ is explained by modeling. This value is 0.1410 or 14.1% of variation in $log(\\frac{p}{1-p})$ is explained by modeling. \n",
    "\n",
    "AUC (area under the ROC curve) tells us how well we classify across all thresholds. The plot of the ROC can be found in the plot below. We got an AUC of 0.7549 which says we the model classifies a area correctly about 75% of the time. Meaning if we picked a new area/location we would correctly identify if it was infested 75% of the time.  "
   ]
  },
  {
   "cell_type": "code",
   "execution_count": 5,
   "metadata": {},
   "outputs": [
    {
     "data": {
      "text/plain": [
       "0.7549195556344515"
      ]
     },
     "execution_count": 5,
     "metadata": {},
     "output_type": "execute_result"
    },
    {
     "data": {
      "image/png": "[encoded data removed]",
      "text/plain": [
       "<Figure size 432x288 with 1 Axes>"
      ]
     },
     "metadata": {
      "needs_background": "light"
     },
     "output_type": "display_data"
    }
   ],
   "source": [
    "#AUC curve\n",
    "fpr,sens,th = roc_curve(mbp['Infested'],log_reg.predict())\n",
    "\n",
    "plt.plot(fpr,sens) #plots the ROC curve\n",
    "plt.plot([0,1],[0,1],'k') #adds a 1-1 line for reference\n",
    "plt.xlabel('FPR') #adds an x label.\n",
    "plt.ylabel('Sensitivity') #adds an y label.\n",
    "\n",
    "#to know how well we classify under all thresholds, we can report the area under the ROC curve (AUC).\n",
    "auc(fpr,sens)"
   ]
  },
  {
   "cell_type": "markdown",
   "metadata": {},
   "source": [
    "### Results\n",
    "Sensitivity: The percent of True Positives is 86.6% for all the data. This is where the model predicted positive (infested) and it is true. \n",
    "\n",
    "Specificity: The percent of True Negatives is 16.9% for all the data. This is where the model predicted negative (not infested) and it is true. \n",
    "\n",
    "Positive Predictive Value: The percent of correctly predicting positive for infestation in a new area (Yes's) is 79.7% for all the data.\n",
    "\n",
    "Negative Predictive Value: The percent of correctly predicting negative for infestation in a new area (No's) is 25.1% for all the data."
   ]
  },
  {
   "cell_type": "code",
   "execution_count": 12,
   "metadata": {},
   "outputs": [],
   "source": [
    "fn=245\n",
    "fp=402\n",
    "tn=82\n",
    "tp=1581\n",
    "\n",
    "sens = tp/(tp+fn)\n",
    "spec = tn/(tn+fp)\n",
    "ppv = tp/(tp+fp)\n",
    "npv = tn/(tn+fn)"
   ]
  },
  {
   "cell_type": "code",
   "execution_count": 13,
   "metadata": {},
   "outputs": [
    {
     "data": {
      "text/plain": [
       "array([[ 245,  402],\n",
       "       [  82, 1581]], dtype=int64)"
      ]
     },
     "execution_count": 13,
     "metadata": {},
     "output_type": "execute_result"
    }
   ],
   "source": [
    "#Confusion Matrix\n",
    "confusion_matrix(mbp['Infested'],thresh[np.argmin(misclass)]<pred_probs)"
   ]
  },
  {
   "cell_type": "code",
   "execution_count": 14,
   "metadata": {},
   "outputs": [
    {
     "data": {
      "text/plain": [
       "0.1410423747895082"
      ]
     },
     "execution_count": 14,
     "metadata": {},
     "output_type": "execute_result"
    }
   ],
   "source": [
    "#psedo-R^2\n",
    "1-(log_reg.deviance/log_reg.null_deviance)"
   ]
  },
  {
   "cell_type": "markdown",
   "metadata": {},
   "source": [
    "### Assessing Predictive Ability In the Model\n",
    "\n",
    "Below I ran a cross-validation study using the threshold found earlier to classify the test areas. This procedure will show how well this model does a predicting new locations where pine beetle infestations will occur. The results from this study are as follows with an included explanation:\n",
    "\n",
    "Sensitivity: The percent of True Positives is 92% for the cross-validated studies. \n",
    "\n",
    "Specificity: The percent of True Negatives is 42.4% for the cross-validated studies.\n",
    "\n",
    "Positive Predictive Value: The percent of correctly predicting positive for infestation in a new area (Yes's) is 80.4% for the cross-validated studies.\n",
    "\n",
    "Negative Predictive Value: The percent of correctly predicting negative for infestation in a new area (No's) is 67.5% for the cross-validated studies."
   ]
  },
  {
   "cell_type": "code",
   "execution_count": 25,
   "metadata": {},
   "outputs": [
    {
     "name": "stdout",
     "output_type": "stream",
     "text": [
      "Sensitivity: 0.9517516126800908\n",
      "Specificity: 0.37347533168007524\n",
      "Positive Predictive Value: 0.7958051012230735\n",
      "Negative Predictive Value: 0.7518982115081841\n",
      "AUC: 0.7557838908090919\n"
     ]
    }
   ],
   "source": [
    "#Cross Validation\n",
    "\n",
    "## Choose number of CV studies to run in a loop & test set size\n",
    "n_cv = 500\n",
    "n_test = int(np.round(.1*mbp.shape[0]))\n",
    "## Set my threshold for classifying\n",
    "cutoff = .4949\n",
    "## Initialize matrices to hold CV results\n",
    "sens = np.repeat(np.NaN,n_cv)\n",
    "spec = np.repeat(np.NaN,n_cv)\n",
    "ppv = np.repeat(np.NaN,n_cv)\n",
    "npv = np.repeat(np.NaN,n_cv)\n",
    "auc_value = np.repeat(np.NaN,n_cv)\n",
    "n = len(mbp['Infested']) \n",
    "\n",
    "## Begin for loop\n",
    "for cv in range(n_cv):\n",
    "    ## Separate into test and training sets\n",
    "    # Choose which obs. to put in test set\n",
    "    testObs = np.random.choice(n, n_test)\n",
    "    \n",
    "    # Split data into test and training sets\n",
    "    test_set = mbp.iloc[testObs,:]\n",
    "    trainSet = mbp.drop(testObs)\n",
    "    \n",
    "    ## Fit best model to training set\n",
    "    train_model = smf.glm(formula='Infested~January+August_max+Precip+NC+SE', data=mbp,\n",
    "                          family=sm.families.Binomial()).fit()\n",
    "        \n",
    "    ## Use fitted model to predict test set\n",
    "    pred_probs = train_model.predict(test_set)\n",
    "    \n",
    "    ## Classify according to threshold\n",
    "    test_class = pred_probs > cutoff\n",
    "    \n",
    "    ## Create a confusion matrix\n",
    "    conf_mat = confusion_matrix(test_set['Infested'],test_class)\n",
    "    \n",
    "    ## Pull of sensitivity, specificity, PPV and NPV\n",
    "    ## using bracket notation\n",
    "    tn,fp,fn,tp = conf_mat.ravel()\n",
    "    sens[cv] = tp/(tp+fn)\n",
    "    spec[cv] = tn/(tn+fp)\n",
    "    ppv[cv] = tp/(tp+fp)\n",
    "    npv[cv] = tn/(tn+fn)\n",
    "    \n",
    "    ## Calculate AUC\n",
    "    fpr,tpr,th = roc_curve(test_set['Infested'],pred_probs)\n",
    "    auc_value[cv] = auc(fpr,tpr)\n",
    "## End for loop\n",
    "\n",
    "#Sensitivity \n",
    "print(\"Sensitivity: {}\".format(np.mean(sens)))\n",
    "\n",
    "#Specificity \n",
    "print(\"Specificity: {}\".format(np.mean(spec)))\n",
    "\n",
    "#Positive Predictive Value \n",
    "print(\"Positive Predictive Value: {}\".format(np.mean(ppv)))\n",
    "\n",
    "#Negative Predictive Value \n",
    "print(\"Negative Predictive Value: {}\".format(np.mean(npv)))\n",
    "\n",
    "#AUC \n",
    "print(\"AUC: {}\".format(np.mean(auc_value)))"
   ]
  },
  {
   "cell_type": "markdown",
   "metadata": {},
   "source": [
    "## Making a prediction\n",
    "\n",
    "For this particular prediction I choose three years from the 10 forecasts for the next 10 years. I choose 2020, 2024, and 2027. The set data were a South East region with a slope of 18.07 and elevation of 1901.95. Each forecast contained  August temperatures, minimum January temperatures and precipitation. These were the information that I entered into the model with the exception of slope and elevation since these effects were not included in the model. \n",
    "\n",
    "For each of these years the predicted probability was found to be above the cutoff value. Thus, assuming our model is predicting well, we could expect that this region will become infested in the next 10 years. This seems reasonable since the Positive Predictive Value found in the cross-validation study was 80%. This says the model correctly predicts positive for infestation in a new area 80% percent of the time. Although this is not a perfect number it is a reasonably high percentage. Give the high percentage it would not be a wasted effort to focus on an area that has been classified as being infested as most of the time this prediction would be correct. "
   ]
  },
  {
   "cell_type": "code",
   "execution_count": 22,
   "metadata": {},
   "outputs": [
    {
     "name": "stdout",
     "output_type": "stream",
     "text": [
      "Prediction: 0    0.878460\n",
      "1    0.892270\n",
      "2    0.832852\n",
      "dtype: float64\n"
     ]
    },
    {
     "data": {
      "text/plain": [
       "0    True\n",
       "1    True\n",
       "2    True\n",
       "dtype: bool"
      ]
     },
     "execution_count": 22,
     "metadata": {},
     "output_type": "execute_result"
    }
   ],
   "source": [
    "#Predictions:\n",
    "dframe = pd.DataFrame(dict(NC=[\"No\", \"No\", \"No\"], SE=[\"Yes\", \"Yes\", \"Yes\"], \n",
    "                           January=[-17.27, -15.75, -12.44], \n",
    "                           August_max=[ 16.74, 16.85, 16.96], \n",
    "                           Precip=[ 677.63,  805.90, 801.22]))\n",
    "\n",
    "print(\"Prediction: {}\".format(log_reg.predict(dframe)))\n",
    "log_reg.predict(dframe) > .4949 #Cutoff"
   ]
  },
  {
   "cell_type": "markdown",
   "metadata": {},
   "source": [
    "## Conclusions\n",
    "\n",
    "From this analysis we have determined the main effects that are import to consider when determining if an area is infested. We have also created a model for making predictions about these locations. What could be concluded within this analysis is that areas with low January temperatures and are located in the regions NC and SE are much less likely to be infested. In contrast areas with higher precipitation and higher temperatures for January tend to have a higher probability of being infested. \n",
    "\n",
    "Future goals ecologists should consider is focusing on areas other than the regions of NC and SE and regions that have high precipitation and a lower January minimum temperature. Perhaps the study could be continued by understanding why warmer areas tend to be more infested and if there are ways of mitigating this some how. "
   ]
  }
 ],
 "metadata": {
  "hide_input": false,
  "kernelspec": {
   "display_name": "Python 3",
   "language": "python",
   "name": "python3"
  },
  "language_info": {
   "codemirror_mode": {
    "name": "ipython",
    "version": 3
   },
   "file_extension": ".py",
   "mimetype": "text/x-python",
   "name": "python",
   "nbconvert_exporter": "python",
   "pygments_lexer": "ipython3",
   "version": "3.7.3"
  }
 },
 "nbformat": 4,
 "nbformat_minor": 2
}
